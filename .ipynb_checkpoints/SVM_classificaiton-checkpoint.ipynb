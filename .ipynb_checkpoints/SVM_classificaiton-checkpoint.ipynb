{
 "cells": [
  {
   "cell_type": "code",
   "execution_count": 1,
   "metadata": {
    "collapsed": true
   },
   "outputs": [],
   "source": [
    "import pandas as pd\n",
    "# pd.options.display.max_colwidth = 200\n",
    "\n",
    "import numpy as np\n",
    "from collections import defaultdict\n",
    "\n",
    "import matplotlib\n",
    "import matplotlib.pyplot as plt\n",
    "\n",
    "import seaborn as sns\n",
    "sns.set_style(\"white\")\n",
    "\n",
    "from pymystem3 import Mystem; mystem = Mystem()\n",
    "from functools import lru_cache\n",
    "\n",
    "\n",
    "from tqdm import tqdm\n",
    "tqdm.pandas()\n",
    "\n",
    "%matplotlib inline"
   ]
  },
  {
   "cell_type": "markdown",
   "metadata": {},
   "source": [
    "# Data overview"
   ]
  },
  {
   "cell_type": "code",
   "execution_count": 2,
   "metadata": {
    "collapsed": true
   },
   "outputs": [],
   "source": [
    "data = pd.read_csv('./DATA_MANY_TOPICS.csv')"
   ]
  },
  {
   "cell_type": "code",
   "execution_count": 3,
   "metadata": {},
   "outputs": [
    {
     "data": {
      "text/html": [
       "<div>\n",
       "<table border=\"1\" class=\"dataframe\">\n",
       "  <thead>\n",
       "    <tr style=\"text-align: right;\">\n",
       "      <th></th>\n",
       "      <th>index</th>\n",
       "      <th>text</th>\n",
       "      <th>title</th>\n",
       "      <th>topic</th>\n",
       "      <th>url</th>\n",
       "    </tr>\n",
       "  </thead>\n",
       "  <tbody>\n",
       "    <tr>\n",
       "      <th>23756</th>\n",
       "      <td>23756</td>\n",
       "      <td>\\n  Совет директоров крупнейшего в России порт...</td>\n",
       "      <td>\\n                    Группа НМТП заплатит див...</td>\n",
       "      <td>business</td>\n",
       "      <td>http://www.vedomosti.ru/business/news/2013/04/...</td>\n",
       "    </tr>\n",
       "    <tr>\n",
       "      <th>99656</th>\n",
       "      <td>99656</td>\n",
       "      <td>В столовой Госдумы нет турецких сладостей. Об ...</td>\n",
       "      <td>В Кремле опровергли закупку турецких сладостей...</td>\n",
       "      <td>politics</td>\n",
       "      <td>https://lenta.ru/news/2015/12/11/sweetness/</td>\n",
       "    </tr>\n",
       "    <tr>\n",
       "      <th>119005</th>\n",
       "      <td>119005</td>\n",
       "      <td>Россия и США еще не достигли новых договоренно...</td>\n",
       "      <td>Обама рассказал о перспективах достижения с Ро...</td>\n",
       "      <td>politics</td>\n",
       "      <td>https://lenta.ru/news/2016/09/04/obama2/</td>\n",
       "    </tr>\n",
       "    <tr>\n",
       "      <th>92517</th>\n",
       "      <td>92517</td>\n",
       "      <td>Президент Федерации тенниса России (ФТР) Шамил...</td>\n",
       "      <td>Тарпищев прокомментировал применение допинга с...</td>\n",
       "      <td>tennis</td>\n",
       "      <td>https://lenta.ru/news/2016/09/27/shamadopingsi...</td>\n",
       "    </tr>\n",
       "    <tr>\n",
       "      <th>165301</th>\n",
       "      <td>165318</td>\n",
       "      <td>Директор по связям с общественностью \"Бастии\" ...</td>\n",
       "      <td>В \"Бастии\" считают, что \"ПСЖ\" выставляет корси...</td>\n",
       "      <td>football</td>\n",
       "      <td>http://www.sport-express.ru/football/france/ne...</td>\n",
       "    </tr>\n",
       "  </tbody>\n",
       "</table>\n",
       "</div>"
      ],
      "text/plain": [
       "         index                                               text  \\\n",
       "23756    23756  \\n  Совет директоров крупнейшего в России порт...   \n",
       "99656    99656  В столовой Госдумы нет турецких сладостей. Об ...   \n",
       "119005  119005  Россия и США еще не достигли новых договоренно...   \n",
       "92517    92517  Президент Федерации тенниса России (ФТР) Шамил...   \n",
       "165301  165318  Директор по связям с общественностью \"Бастии\" ...   \n",
       "\n",
       "                                                    title     topic  \\\n",
       "23756   \\n                    Группа НМТП заплатит див...  business   \n",
       "99656   В Кремле опровергли закупку турецких сладостей...  politics   \n",
       "119005  Обама рассказал о перспективах достижения с Ро...  politics   \n",
       "92517   Тарпищев прокомментировал применение допинга с...    tennis   \n",
       "165301  В \"Бастии\" считают, что \"ПСЖ\" выставляет корси...  football   \n",
       "\n",
       "                                                      url  \n",
       "23756   http://www.vedomosti.ru/business/news/2013/04/...  \n",
       "99656         https://lenta.ru/news/2015/12/11/sweetness/  \n",
       "119005           https://lenta.ru/news/2016/09/04/obama2/  \n",
       "92517   https://lenta.ru/news/2016/09/27/shamadopingsi...  \n",
       "165301  http://www.sport-express.ru/football/france/ne...  "
      ]
     },
     "execution_count": 3,
     "metadata": {},
     "output_type": "execute_result"
    }
   ],
   "source": [
    "data.sample(5)"
   ]
  },
  {
   "cell_type": "code",
   "execution_count": 4,
   "metadata": {
    "scrolled": false
   },
   "outputs": [
    {
     "name": "stdout",
     "output_type": "stream",
     "text": [
      "Number of news: 188028\n"
     ]
    }
   ],
   "source": [
    "print('Number of news:', len(data))"
   ]
  },
  {
   "cell_type": "code",
   "execution_count": 5,
   "metadata": {},
   "outputs": [
    {
     "name": "stdout",
     "output_type": "stream",
     "text": [
      "Number of topics: 32\n"
     ]
    }
   ],
   "source": [
    "print('Number of topics:', data.topic.nunique())"
   ]
  },
  {
   "cell_type": "code",
   "execution_count": 6,
   "metadata": {
    "collapsed": true
   },
   "outputs": [],
   "source": [
    "data = data[~((data.topic == 'forces') & (data.url.str.contains('https://www.gazeta.ru/')))]"
   ]
  },
  {
   "cell_type": "code",
   "execution_count": 7,
   "metadata": {},
   "outputs": [
    {
     "data": {
      "text/plain": [
       "football           31993\n",
       "business           28022\n",
       "politics           22849\n",
       "hockey             11400\n",
       "technologies        7097\n",
       "films               6592\n",
       "science             5558\n",
       "crime               5308\n",
       "internet            5067\n",
       "realty              4878\n",
       "basketball          4480\n",
       "judiciary           4165\n",
       "weapons             4120\n",
       "forces              3993\n",
       "music               3809\n",
       "tennis              3571\n",
       "auto                3453\n",
       "companies           3316\n",
       "cosmos              2732\n",
       "boxing              2512\n",
       "economics           2426\n",
       "biathlon            2235\n",
       "social-networks     2039\n",
       "cybersport          1835\n",
       "formula1            1433\n",
       "animals             1225\n",
       "books                939\n",
       "religion             903\n",
       "theatre              882\n",
       "skiing               696\n",
       "volleyball           528\n",
       "chess                473\n",
       "Name: topic, dtype: int64"
      ]
     },
     "execution_count": 7,
     "metadata": {},
     "output_type": "execute_result"
    }
   ],
   "source": [
    "data.topic.value_counts()"
   ]
  },
  {
   "cell_type": "code",
   "execution_count": 8,
   "metadata": {
    "scrolled": true
   },
   "outputs": [
    {
     "data": {
      "image/png": "[encoded data removed]",
      "text/plain": [
       "<matplotlib.figure.Figure at 0x7fd69bf63588>"
      ]
     },
     "metadata": {},
     "output_type": "display_data"
    }
   ],
   "source": [
    "topics_freq = data.topic.value_counts(ascending=True)\n",
    "plt.figure(figsize=(14,12))\n",
    "plt.barh(range(len(topics_freq)), topics_freq.values)\n",
    "plt.yticks(range(len(topics_freq)), topics_freq.index);\n",
    "plt.xticks(np.arange(0, 33001, 2500));\n",
    "plt.grid(True)\n",
    "plt.title('Частоты тем в датасете');"
   ]
  },
  {
   "cell_type": "code",
   "execution_count": 9,
   "metadata": {
    "collapsed": true
   },
   "outputs": [],
   "source": [
    "class Pipeline(object):\n",
    "    def __init__(self, *args):\n",
    "        self.transformations = args\n",
    "    def __call__(self, x):\n",
    "        res = x\n",
    "        for f in self.transformations:\n",
    "            res = f(res)\n",
    "        return res"
   ]
  },
  {
   "cell_type": "code",
   "execution_count": 10,
   "metadata": {
    "collapsed": true
   },
   "outputs": [],
   "source": [
    "from nltk.corpus import stopwords\n",
    "from stop_words import get_stop_words\n",
    "en_sw = get_stop_words('en')\n",
    "ru_sw = get_stop_words('ru')\n",
    "STOP_WORDS = set(en_sw) | set(ru_sw)\n",
    "STOP_WORDS = STOP_WORDS | set(stopwords.words('russian')) | set(stopwords.words('english'))\n",
    "STOP_WORDS = STOP_WORDS | set(['лента', 'новость', 'риа', 'тасс',\n",
    "                               'редакция', 'газета', 'корра', 'daily',\n",
    "                               'village', 'интерфакс', 'reuters'])\n",
    "\n",
    "def remove_ria(text):\n",
    "    prefix = text[:50]\n",
    "    ria = 'РИА Новости'\n",
    "    if ria in prefix:\n",
    "        text = text[text.find(ria)+len(ria)+1:]\n",
    "    return text\n",
    "\n",
    "def remove_tass(text):\n",
    "    prefix = text[:100]\n",
    "    return text[max(0, prefix.find('/.')+1):]\n",
    "\n",
    "def get_lower(text):\n",
    "    return str(text).lower().strip()\n",
    "\n",
    "def remove_punctuation(text):\n",
    "    return ''.join([c if c.isalpha() or c in ['-',\"'\"] else ' ' for c in text])\n",
    "\n",
    "@lru_cache(maxsize=None)\n",
    "def get_word_normal_form(word):\n",
    "    return ''.join(mystem.lemmatize(word)).strip().replace('ё', 'е').strip('-')\n",
    "\n",
    "def lemmatize_words(text):\n",
    "    res = []\n",
    "    for word in text.split():\n",
    "        norm_form = get_word_normal_form(word)\n",
    "        if len(norm_form) > 2 and norm_form not in STOP_WORDS:\n",
    "            res.append(norm_form)\n",
    "    return ' '.join(res)"
   ]
  },
  {
   "cell_type": "code",
   "execution_count": 11,
   "metadata": {
    "collapsed": true
   },
   "outputs": [],
   "source": [
    "TEXT_PIPELINE = Pipeline(remove_tass, remove_ria, get_lower, remove_punctuation, lemmatize_words)"
   ]
  },
  {
   "cell_type": "code",
   "execution_count": 12,
   "metadata": {},
   "outputs": [
    {
     "name": "stderr",
     "output_type": "stream",
     "text": [
      "100%|██████████| 180529/180529 [01:19<00:00, 2259.25it/s]\n"
     ]
    },
    {
     "name": "stdout",
     "output_type": "stream",
     "text": [
      "CPU times: user 57.7 s, sys: 2.96 s, total: 1min\n",
      "Wall time: 1min 20s\n"
     ]
    }
   ],
   "source": [
    "%%time\n",
    "data.text = data.text.progress_apply(TEXT_PIPELINE)"
   ]
  },
  {
   "cell_type": "code",
   "execution_count": 13,
   "metadata": {},
   "outputs": [
    {
     "name": "stderr",
     "output_type": "stream",
     "text": [
      "100%|██████████| 180529/180529 [00:03<00:00, 47124.13it/s]"
     ]
    },
    {
     "name": "stdout",
     "output_type": "stream",
     "text": [
      "CPU times: user 3.46 s, sys: 52 ms, total: 3.51 s\n",
      "Wall time: 3.84 s\n"
     ]
    },
    {
     "name": "stderr",
     "output_type": "stream",
     "text": [
      "\n"
     ]
    }
   ],
   "source": [
    "%%time\n",
    "data.title = data.title.progress_apply(TEXT_PIPELINE)"
   ]
  },
  {
   "cell_type": "code",
   "execution_count": 14,
   "metadata": {},
   "outputs": [
    {
     "name": "stdout",
     "output_type": "stream",
     "text": [
      "Unique words in dataset: 246038\n"
     ]
    }
   ],
   "source": [
    "vocabulary = defaultdict(int)\n",
    "for news in data.itertuples():\n",
    "    for word in news.text.split():\n",
    "        vocabulary[word] += 1\n",
    "print('Unique words in dataset:', len(vocabulary))"
   ]
  },
  {
   "cell_type": "code",
   "execution_count": 15,
   "metadata": {
    "scrolled": false
   },
   "outputs": [
    {
     "name": "stdout",
     "output_type": "stream",
     "text": [
      "Number of words occured more than 2 times: 144456\n"
     ]
    }
   ],
   "source": [
    "n_min_occurance = 2\n",
    "print('Number of words occured more than %d times: %d' % \n",
    "      (n_min_occurance, len(list(filter(lambda x: x[1] >= n_min_occurance, vocabulary.items())))))"
   ]
  },
  {
   "cell_type": "code",
   "execution_count": 16,
   "metadata": {},
   "outputs": [
    {
     "name": "stdout",
     "output_type": "stream",
     "text": [
      "Top 25 most frequent words:\n",
      "1 россия 127360\n",
      "2 компания 109475\n",
      "3 сообщать 102989\n",
      "4 свой 85740\n",
      "5 российский 68955\n",
      "6 становиться 64901\n",
      "7 матч 64332\n",
      "8 слово 60927\n",
      "9 заявлять 59660\n",
      "10 отмечать 55122\n",
      "11 команда 50941\n",
      "12 млрд 50432\n",
      "13 страна 49104\n",
      "14 президент 48788\n",
      "15 получать 48404\n",
      "16 сша 47990\n",
      "17 новый 46498\n",
      "18 млн 42251\n",
      "19 ранее 41067\n",
      "20 руб 39573\n",
      "21 чемпионат 38149\n",
      "22 данный 37871\n",
      "23 москва 37448\n",
      "24 представитель 37279\n",
      "25 составлять 36976\n"
     ]
    }
   ],
   "source": [
    "top_k = 25\n",
    "print('Top %d most frequent words:' % top_k)\n",
    "for i, (word, freq) in enumerate(sorted(vocabulary.items(), key=lambda x: -x[1])[:top_k]):\n",
    "    print(i+1, word, freq)"
   ]
  },
  {
   "cell_type": "markdown",
   "metadata": {},
   "source": [
    "# Baseline"
   ]
  },
  {
   "cell_type": "code",
   "execution_count": 17,
   "metadata": {
    "collapsed": true
   },
   "outputs": [],
   "source": [
    "from sklearn.preprocessing import LabelEncoder\n",
    "from sklearn.feature_extraction.text import TfidfVectorizer\n",
    "from sklearn.model_selection import train_test_split, cross_val_score\n",
    "from sklearn.linear_model import LogisticRegression\n",
    "from sklearn.metrics import accuracy_score, f1_score, confusion_matrix, make_scorer\n",
    "from sklearn.svm import LinearSVC\n",
    "\n",
    "from scipy.sparse import hstack"
   ]
  },
  {
   "cell_type": "markdown",
   "metadata": {},
   "source": [
    "## Закодируем целевую переменную"
   ]
  },
  {
   "cell_type": "code",
   "execution_count": 18,
   "metadata": {
    "collapsed": true
   },
   "outputs": [],
   "source": [
    "le = LabelEncoder()\n",
    "data.topic = le.fit_transform(data.topic)"
   ]
  },
  {
   "cell_type": "markdown",
   "metadata": {},
   "source": [
    "## Undersampling"
   ]
  },
  {
   "cell_type": "code",
   "execution_count": 19,
   "metadata": {
    "collapsed": true
   },
   "outputs": [],
   "source": [
    "data.drop(data[data.topic == 14].sample(20000).index, inplace=True)\n",
    "data.drop(data[data.topic == 6].sample(18000).index, inplace=True)\n",
    "data.drop(data[data.topic == 21].sample(11000).index, inplace=True)"
   ]
  },
  {
   "cell_type": "code",
   "execution_count": 20,
   "metadata": {
    "scrolled": true
   },
   "outputs": [
    {
     "data": {
      "text/plain": [
       "14    11993\n",
       "21    11849\n",
       "17    11400\n",
       "6     10022\n",
       "27     7097\n",
       "13     6592\n",
       "24     5558\n",
       "10     5308\n",
       "18     5067\n",
       "22     4878\n",
       "2      4480\n",
       "19     4165\n",
       "31     4120\n",
       "15     3993\n",
       "20     3809\n",
       "28     3571\n",
       "1      3453\n",
       "8      3316\n",
       "9      2732\n",
       "5      2512\n",
       "12     2426\n",
       "3      2235\n",
       "26     2039\n",
       "11     1835\n",
       "16     1433\n",
       "0      1225\n",
       "4       939\n",
       "23      903\n",
       "29      882\n",
       "25      696\n",
       "30      528\n",
       "7       473\n",
       "Name: topic, dtype: int64"
      ]
     },
     "execution_count": 20,
     "metadata": {},
     "output_type": "execute_result"
    }
   ],
   "source": [
    "data.topic.value_counts()"
   ]
  },
  {
   "cell_type": "markdown",
   "metadata": {},
   "source": [
    "## Разделим данные на train и validation"
   ]
  },
  {
   "cell_type": "code",
   "execution_count": 21,
   "metadata": {
    "collapsed": true
   },
   "outputs": [],
   "source": [
    "trainX = data.title + ' ' + data.text\n",
    "trainX = np.swapaxes(np.vstack([trainX.values, data.url.values]), 0, 1)\n",
    "trainY = data.topic.values"
   ]
  },
  {
   "cell_type": "code",
   "execution_count": 22,
   "metadata": {
    "collapsed": true
   },
   "outputs": [],
   "source": [
    "X_train, X_test, y_train, y_test = train_test_split(trainX, trainY, test_size=0.5, stratify=trainY, random_state=42)"
   ]
  },
  {
   "cell_type": "markdown",
   "metadata": {},
   "source": [
    "## Вычислим tf-idf"
   ]
  },
  {
   "cell_type": "code",
   "execution_count": 23,
   "metadata": {
    "scrolled": true
   },
   "outputs": [
    {
     "name": "stdout",
     "output_type": "stream",
     "text": [
      "CPU times: user 1min, sys: 544 ms, total: 1min 1s\n",
      "Wall time: 1min 1s\n"
     ]
    }
   ],
   "source": [
    "%%time\n",
    "tfidf_vectorizer = TfidfVectorizer(min_df=5, ngram_range=(1,2), lowercase=False).fit(trainX[:,0])"
   ]
  },
  {
   "cell_type": "code",
   "execution_count": 24,
   "metadata": {},
   "outputs": [
    {
     "data": {
      "text/plain": [
       "512353"
      ]
     },
     "execution_count": 24,
     "metadata": {},
     "output_type": "execute_result"
    }
   ],
   "source": [
    "len(tfidf_vectorizer.vocabulary_)"
   ]
  },
  {
   "cell_type": "code",
   "execution_count": 25,
   "metadata": {
    "collapsed": true
   },
   "outputs": [],
   "source": [
    "X_train_tf = tfidf_vectorizer.transform(X_train[:,0])\n",
    "X_test_tf = tfidf_vectorizer.transform(X_test[:,0])"
   ]
  },
  {
   "cell_type": "markdown",
   "metadata": {},
   "source": [
    "## Обучим SVM"
   ]
  },
  {
   "cell_type": "code",
   "execution_count": 26,
   "metadata": {
    "collapsed": true
   },
   "outputs": [],
   "source": [
    "clf = LinearSVC(C=1, max_iter=10000, loss='hinge', random_state=42)"
   ]
  },
  {
   "cell_type": "code",
   "execution_count": 27,
   "metadata": {},
   "outputs": [
    {
     "name": "stdout",
     "output_type": "stream",
     "text": [
      "CPU times: user 24.1 s, sys: 8 ms, total: 24.1 s\n",
      "Wall time: 24.1 s\n"
     ]
    },
    {
     "data": {
      "text/plain": [
       "LinearSVC(C=1, class_weight=None, dual=True, fit_intercept=True,\n",
       "     intercept_scaling=1, loss='hinge', max_iter=10000, multi_class='ovr',\n",
       "     penalty='l2', random_state=42, tol=0.0001, verbose=0)"
      ]
     },
     "execution_count": 27,
     "metadata": {},
     "output_type": "execute_result"
    }
   ],
   "source": [
    "%%time\n",
    "clf.fit(X_train_tf, y_train)"
   ]
  },
  {
   "cell_type": "code",
   "execution_count": 28,
   "metadata": {},
   "outputs": [
    {
     "name": "stdout",
     "output_type": "stream",
     "text": [
      "F1 score: 0.884495870649\n",
      "Accuracy: 0.883220558048\n"
     ]
    }
   ],
   "source": [
    "clf_prediciton = clf.predict(X_test_tf)\n",
    "print('F1 score:', f1_score(y_test, clf_prediciton, average='macro'))\n",
    "print('Accuracy:', accuracy_score(y_test, clf_prediciton))"
   ]
  },
  {
   "cell_type": "markdown",
   "metadata": {},
   "source": [
    "## Построим нормализованную матрицу потерь"
   ]
  },
  {
   "cell_type": "code",
   "execution_count": 29,
   "metadata": {
    "collapsed": true
   },
   "outputs": [],
   "source": [
    "cm = confusion_matrix(y_test, clf_prediciton)\n",
    "cm = np.round(cm / cm.sum(axis=1)[:, np.newaxis], 2)"
   ]
  },
  {
   "cell_type": "code",
   "execution_count": 30,
   "metadata": {
    "collapsed": true
   },
   "outputs": [],
   "source": [
    "classes = [c for c in le.classes_]\n",
    "df_cm = pd.DataFrame(cm, columns=classes, index=classes)"
   ]
  },
  {
   "cell_type": "code",
   "execution_count": 31,
   "metadata": {
    "scrolled": true
   },
   "outputs": [
    {
     "data": {
      "image/png": "[encoded data removed]",
      "text/plain": [
       "<matplotlib.figure.Figure at 0x7fd69e1ffb00>"
      ]
     },
     "metadata": {},
     "output_type": "display_data"
    }
   ],
   "source": [
    "sns.set_context(\"notebook\", font_scale=1.4);\n",
    "plt.figure(figsize=(20, 20))\n",
    "ax = sns.heatmap(df_cm, annot=True, linewidths=.5, fmt='g', cbar=False, square=True, annot_kws={\"size\": 10});\n",
    "ax.xaxis.tick_top()\n",
    "ax.set_xticklabels(ax.xaxis.get_majorticklabels(), rotation=90);"
   ]
  },
  {
   "cell_type": "markdown",
   "metadata": {},
   "source": [
    "## Посмотрим на ошибки классификации"
   ]
  },
  {
   "cell_type": "code",
   "execution_count": 32,
   "metadata": {
    "scrolled": true
   },
   "outputs": [
    {
     "name": "stdout",
     "output_type": "stream",
     "text": [
      "http://www.vedomosti.ru/technology/articles/2015/01/13/schetnaya-palata-podschitala-tehnoparki\n",
      "http://www.vedomosti.ru/technology/news/2016/07/04/647810-moskvi-serovodoroda\n",
      "http://www.vedomosti.ru/technology/articles/2010/07/30/rosreestr-sozdaet-cifrovuyu-kartu-nedvizhimosti-rossii\n",
      "http://www.vedomosti.ru/technology/news/2011/11/24/ceul_priznan_samym_umnym_gorodom_mira\n",
      "https://lenta.ru/news/2015/12/01/kingdomtower/\n",
      "http://www.vedomosti.ru/technology/news/2013/02/26/na_kosmodrome_vostochnyj_stroitelstvo_ostavshihsya_obektov\n",
      "http://www.vedomosti.ru/technology/news/2011/08/22/yandeks_mozhet_postroit_v_tulskoj_oblasti_centr_obrabotki\n",
      "http://www.vedomosti.ru/technology/news/2015/03/03/microsoft-viigrala-u-sibmosta-tyazhbu-o-narushenii-avtorskih-prav\n",
      "http://www.vedomosti.ru/technology/articles/2013/04/22/des_moines_register_facebook_postroit_novyj\n",
      "http://www.vedomosti.ru/technology/news/2013/04/12/putin_predlozhit_nazvat_v_chest_ciolkovskogo_gorod_u\n",
      "http://www.vedomosti.ru/technology/news/2012/08/21/shojgu-raskritikoval-kachestvo-sotovoj-svyazi-v-podmoskove\n",
      "http://www.vedomosti.ru/technology/news/2013/01/17/v_kazhdoj_moskovskoj_shkole_poyavyatsya_16_kamer\n",
      "http://www.vedomosti.ru/technology/news/2011/09/21/moskva_budet_ispolzovat_reagenty_novogo_pokoleniya\n",
      "http://www.vedomosti.ru/technology/news/2012/07/11/sobyanin_rasporyadilsya_perevesti_vse_upravy_moskvy_na\n",
      "http://www.vedomosti.ru/technology/news/2013/04/04/pervyj_obekt_kosmodroma_vostochnyj_obeschayut_sdat_v_mae\n",
      "https://lenta.ru/news/2015/12/09/sewers/\n",
      "http://www.vedomosti.ru/technology/news/2016/01/12/623664-kitaiskii-kupil\n",
      "http://www.vedomosti.ru/technology/news/2012/01/23/zhiteli_yuga_i_yugovostoka_moskvy_chasche_vsego_zhaluyutsya\n",
      "https://lenta.ru/news/2016/11/04/road/\n",
      "http://www.vedomosti.ru/technology/news/2015/02/27/gosduma-prinyala-zakon-o-zaprete-reklami-na-pamyatnikah-kulturi\n",
      "http://www.vedomosti.ru/technology/news/2016/12/05/668101-torgovlyu-pressoi-metro\n",
      "http://www.vedomosti.ru/technology/news/2012/11/23/moskva_zakupit_u_parizha_desantnye_katamarany_dlya_mistral\n",
      "http://www.vedomosti.ru/technology/news/2011/03/10/sobyanin_predlozhil_osnaschat_wifi_vse_novye_shkoly_moskvy\n",
      "http://www.vedomosti.ru/technology/news/2010/12/23/punkt_dosmotra_passazhirov_poyavilsya_na_stancii_ohotnyj\n",
      "http://www.vedomosti.ru/technology/articles/2012/10/03/nokia_prodaet_shtabkvartiru\n",
      "http://www.vedomosti.ru/technology/articles/2014/12/09/reanimaciya-tehnoparka\n",
      "http://www.vedomosti.ru/technology/news/2011/11/17/bespilotnye_poezda_mogut_poyavitsya_v_moskovskom_metro\n",
      "http://www.vedomosti.ru/technology/news/2012/07/11/rostelekom_obeschaet_tolko_k_oseni_polnostyu_vosstanovit\n",
      "http://www.vedomosti.ru/technology/news/2017/03/01/679472-tesla-predstavitelstvo-rossii\n",
      "https://lenta.ru/news/2015/12/23/robot/\n"
     ]
    }
   ],
   "source": [
    "for i, (true, pred) in enumerate(zip(y_test, clf_prediciton)):\n",
    "    if true == le.transform(['technologies'])[0] and pred == le.transform(['realty'])[0]:\n",
    "        print(X_test[i][1])"
   ]
  },
  {
   "cell_type": "markdown",
   "metadata": {},
   "source": [
    "## Выведем слова с максимальным весом внутри каждого класса"
   ]
  },
  {
   "cell_type": "code",
   "execution_count": 33,
   "metadata": {
    "collapsed": true
   },
   "outputs": [],
   "source": [
    "def print_top_K(vectorizer, clf, class_labels, k=10):\n",
    "    \"\"\"Prints features with the highest coefficient values, per class\"\"\"\n",
    "    feature_names = vectorizer.get_feature_names()\n",
    "    top_words = []\n",
    "    for i, class_label in enumerate(class_labels):\n",
    "        top_K = np.argsort(clf.coef_[i])[-k:]\n",
    "        top_words.append([feature_names[j] for j in top_K])\n",
    "#         print('%s: %s' % (class_label, ' '.join(feature_names[j] for j in top_K)))\n",
    "    return pd.DataFrame(top_words, index=class_labels)"
   ]
  },
  {
   "cell_type": "code",
   "execution_count": 34,
   "metadata": {
    "scrolled": true
   },
   "outputs": [
    {
     "data": {
      "text/html": [
       "<div>\n",
       "<table border=\"1\" class=\"dataframe\">\n",
       "  <thead>\n",
       "    <tr style=\"text-align: right;\">\n",
       "      <th></th>\n",
       "      <th>0</th>\n",
       "      <th>1</th>\n",
       "      <th>2</th>\n",
       "      <th>3</th>\n",
       "      <th>4</th>\n",
       "      <th>5</th>\n",
       "      <th>6</th>\n",
       "      <th>7</th>\n",
       "      <th>8</th>\n",
       "      <th>9</th>\n",
       "    </tr>\n",
       "  </thead>\n",
       "  <tbody>\n",
       "    <tr>\n",
       "      <th>animals</th>\n",
       "      <td>хозяин</td>\n",
       "      <td>крокодил</td>\n",
       "      <td>вольер</td>\n",
       "      <td>медведь</td>\n",
       "      <td>пес</td>\n",
       "      <td>питомец</td>\n",
       "      <td>животный</td>\n",
       "      <td>зоопарк</td>\n",
       "      <td>кличка</td>\n",
       "      <td>животное</td>\n",
       "    </tr>\n",
       "    <tr>\n",
       "      <th>auto</th>\n",
       "      <td>техосмотр</td>\n",
       "      <td>автомобильный</td>\n",
       "      <td>motor</td>\n",
       "      <td>peugeot</td>\n",
       "      <td>автопром</td>\n",
       "      <td>авторынок</td>\n",
       "      <td>камаз</td>\n",
       "      <td>автопроизводитель</td>\n",
       "      <td>автоваз</td>\n",
       "      <td>автомобиль</td>\n",
       "    </tr>\n",
       "    <tr>\n",
       "      <th>basketball</th>\n",
       "      <td>баскетбольный</td>\n",
       "      <td>рфб</td>\n",
       "      <td>единый лига</td>\n",
       "      <td>евробаскет</td>\n",
       "      <td>центровой</td>\n",
       "      <td>кубок европа</td>\n",
       "      <td>баскетбол</td>\n",
       "      <td>баскетболист</td>\n",
       "      <td>евролига</td>\n",
       "      <td>нба</td>\n",
       "    </tr>\n",
       "    <tr>\n",
       "      <th>biathlon</th>\n",
       "      <td>касперович</td>\n",
       "      <td>домрачева</td>\n",
       "      <td>эстафета</td>\n",
       "      <td>шипулин</td>\n",
       "      <td>сбр</td>\n",
       "      <td>хохфильцен</td>\n",
       "      <td>биатлонистка</td>\n",
       "      <td>биатлон</td>\n",
       "      <td>ibu</td>\n",
       "      <td>биатлонист</td>\n",
       "    </tr>\n",
       "    <tr>\n",
       "      <th>books</th>\n",
       "      <td>библиотека</td>\n",
       "      <td>писательница</td>\n",
       "      <td>комикс</td>\n",
       "      <td>произведение</td>\n",
       "      <td>роман</td>\n",
       "      <td>книжный</td>\n",
       "      <td>литературный</td>\n",
       "      <td>книга</td>\n",
       "      <td>поэт</td>\n",
       "      <td>писатель</td>\n",
       "    </tr>\n",
       "    <tr>\n",
       "      <th>boxing</th>\n",
       "      <td>федерация бокс</td>\n",
       "      <td>ринг</td>\n",
       "      <td>алоян</td>\n",
       "      <td>боец</td>\n",
       "      <td>лебзяк</td>\n",
       "      <td>поединок</td>\n",
       "      <td>поветкин</td>\n",
       "      <td>бокс</td>\n",
       "      <td>бой</td>\n",
       "      <td>боксер</td>\n",
       "    </tr>\n",
       "    <tr>\n",
       "      <th>business</th>\n",
       "      <td>месторождение</td>\n",
       "      <td>iaaf</td>\n",
       "      <td>авиакомпания</td>\n",
       "      <td>газпром</td>\n",
       "      <td>rusal</td>\n",
       "      <td>ржд</td>\n",
       "      <td>оао</td>\n",
       "      <td>formula</td>\n",
       "      <td>ритейлер</td>\n",
       "      <td>туроператор</td>\n",
       "    </tr>\n",
       "    <tr>\n",
       "      <th>chess</th>\n",
       "      <td>карякина</td>\n",
       "      <td>магнус</td>\n",
       "      <td>костенюк</td>\n",
       "      <td>шахматы</td>\n",
       "      <td>гроссмейстер</td>\n",
       "      <td>карлсен</td>\n",
       "      <td>фид</td>\n",
       "      <td>шахматный</td>\n",
       "      <td>илюмжинов</td>\n",
       "      <td>карякин</td>\n",
       "    </tr>\n",
       "    <tr>\n",
       "      <th>companies</th>\n",
       "      <td>тысяча автомобиль</td>\n",
       "      <td>миллиард кубометр</td>\n",
       "      <td>кубометр</td>\n",
       "      <td>компания</td>\n",
       "      <td>миллиард</td>\n",
       "      <td>миллион тонна</td>\n",
       "      <td>процент акция</td>\n",
       "      <td>тысяча</td>\n",
       "      <td>ретейлер</td>\n",
       "      <td>процент</td>\n",
       "    </tr>\n",
       "    <tr>\n",
       "      <th>cosmos</th>\n",
       "      <td>роскосмос</td>\n",
       "      <td>астрофизик</td>\n",
       "      <td>международный космический</td>\n",
       "      <td>миссия</td>\n",
       "      <td>космонавт</td>\n",
       "      <td>спутник</td>\n",
       "      <td>вселенная</td>\n",
       "      <td>астронавт</td>\n",
       "      <td>мкс</td>\n",
       "      <td>марс</td>\n",
       "    </tr>\n",
       "    <tr>\n",
       "      <th>crime</th>\n",
       "      <td>террористический</td>\n",
       "      <td>теракт</td>\n",
       "      <td>группировка</td>\n",
       "      <td>преступник</td>\n",
       "      <td>неизвестный</td>\n",
       "      <td>изымать</td>\n",
       "      <td>летний</td>\n",
       "      <td>полиция</td>\n",
       "      <td>убивать</td>\n",
       "      <td>тюрьма</td>\n",
       "    </tr>\n",
       "    <tr>\n",
       "      <th>cybersport</th>\n",
       "      <td>league</td>\n",
       "      <td>major</td>\n",
       "      <td>gaming</td>\n",
       "      <td>коллектив</td>\n",
       "      <td>team</td>\n",
       "      <td>dota</td>\n",
       "      <td>киберфутбол</td>\n",
       "      <td>киберспорт</td>\n",
       "      <td>киберспортивный</td>\n",
       "      <td>киберспортсмен</td>\n",
       "    </tr>\n",
       "    <tr>\n",
       "      <th>economics</th>\n",
       "      <td>мрот</td>\n",
       "      <td>импортозамещение</td>\n",
       "      <td>минфин</td>\n",
       "      <td>греция</td>\n",
       "      <td>платон</td>\n",
       "      <td>мвф</td>\n",
       "      <td>инфляция</td>\n",
       "      <td>бюджет</td>\n",
       "      <td>ввп</td>\n",
       "      <td>экономика</td>\n",
       "    </tr>\n",
       "    <tr>\n",
       "      <th>films</th>\n",
       "      <td>создатель</td>\n",
       "      <td>сниматься</td>\n",
       "      <td>мультфильм</td>\n",
       "      <td>актриса</td>\n",
       "      <td>кино</td>\n",
       "      <td>сериал</td>\n",
       "      <td>картина</td>\n",
       "      <td>режиссер</td>\n",
       "      <td>актер</td>\n",
       "      <td>фильм</td>\n",
       "    </tr>\n",
       "    <tr>\n",
       "      <th>football</th>\n",
       "      <td>euro</td>\n",
       "      <td>арсенал</td>\n",
       "      <td>ростов</td>\n",
       "      <td>матч тур</td>\n",
       "      <td>фнл</td>\n",
       "      <td>футбол</td>\n",
       "      <td>уефа</td>\n",
       "      <td>фифа</td>\n",
       "      <td>футболист</td>\n",
       "      <td>полузащитник</td>\n",
       "    </tr>\n",
       "    <tr>\n",
       "      <th>forces</th>\n",
       "      <td>вкс</td>\n",
       "      <td>развертывать</td>\n",
       "      <td>флот</td>\n",
       "      <td>шойгу</td>\n",
       "      <td>тыс</td>\n",
       "      <td>генштаб</td>\n",
       "      <td>военный</td>\n",
       "      <td>военнослужащий</td>\n",
       "      <td>конашенков</td>\n",
       "      <td>минобороны</td>\n",
       "    </tr>\n",
       "    <tr>\n",
       "      <th>formula1</th>\n",
       "      <td>гран при</td>\n",
       "      <td>цитировать</td>\n",
       "      <td>манор</td>\n",
       "      <td>autosport</td>\n",
       "      <td>рено</td>\n",
       "      <td>макларен</td>\n",
       "      <td>феррари</td>\n",
       "      <td>пилот</td>\n",
       "      <td>мерседес</td>\n",
       "      <td>формула</td>\n",
       "    </tr>\n",
       "    <tr>\n",
       "      <th>hockey</th>\n",
       "      <td>барс</td>\n",
       "      <td>авангард</td>\n",
       "      <td>фхр</td>\n",
       "      <td>шайба</td>\n",
       "      <td>ска</td>\n",
       "      <td>нападающий</td>\n",
       "      <td>хоккей</td>\n",
       "      <td>хоккеист</td>\n",
       "      <td>нхл</td>\n",
       "      <td>кхл</td>\n",
       "    </tr>\n",
       "    <tr>\n",
       "      <th>internet</th>\n",
       "      <td>онлайн</td>\n",
       "      <td>объявление</td>\n",
       "      <td>ролик</td>\n",
       "      <td>википедия</td>\n",
       "      <td>сервис</td>\n",
       "      <td>блогер</td>\n",
       "      <td>youtube</td>\n",
       "      <td>сайт</td>\n",
       "      <td>хакер</td>\n",
       "      <td>интернет</td>\n",
       "    </tr>\n",
       "    <tr>\n",
       "      <th>judiciary</th>\n",
       "      <td>россия</td>\n",
       "      <td>следственный</td>\n",
       "      <td>колония</td>\n",
       "      <td>статья</td>\n",
       "      <td>обвиняемый</td>\n",
       "      <td>суд</td>\n",
       "      <td>скр</td>\n",
       "      <td>следственный комитет</td>\n",
       "      <td>комитет россия</td>\n",
       "      <td>следствие</td>\n",
       "    </tr>\n",
       "    <tr>\n",
       "      <th>music</th>\n",
       "      <td>группа</td>\n",
       "      <td>рэпер</td>\n",
       "      <td>евровидение</td>\n",
       "      <td>композитор</td>\n",
       "      <td>певец</td>\n",
       "      <td>песня</td>\n",
       "      <td>концерт</td>\n",
       "      <td>альбом</td>\n",
       "      <td>певица</td>\n",
       "      <td>музыкант</td>\n",
       "    </tr>\n",
       "    <tr>\n",
       "      <th>politics</th>\n",
       "      <td>анкара</td>\n",
       "      <td>заявлять</td>\n",
       "      <td>партия</td>\n",
       "      <td>кремль</td>\n",
       "      <td>избирательный</td>\n",
       "      <td>лидер</td>\n",
       "      <td>госдума</td>\n",
       "      <td>депутат</td>\n",
       "      <td>мид</td>\n",
       "      <td>глава</td>\n",
       "    </tr>\n",
       "    <tr>\n",
       "      <th>realty</th>\n",
       "      <td>площадь</td>\n",
       "      <td>строительный</td>\n",
       "      <td>москва</td>\n",
       "      <td>ипотечный</td>\n",
       "      <td>строительство</td>\n",
       "      <td>жкх</td>\n",
       "      <td>ипотека</td>\n",
       "      <td>жилищный</td>\n",
       "      <td>жилье</td>\n",
       "      <td>недвижимость</td>\n",
       "    </tr>\n",
       "    <tr>\n",
       "      <th>religion</th>\n",
       "      <td>религия</td>\n",
       "      <td>христиан</td>\n",
       "      <td>муфтий</td>\n",
       "      <td>православный</td>\n",
       "      <td>храм</td>\n",
       "      <td>митрополит</td>\n",
       "      <td>община</td>\n",
       "      <td>церковь</td>\n",
       "      <td>святой</td>\n",
       "      <td>патриарх</td>\n",
       "    </tr>\n",
       "    <tr>\n",
       "      <th>science</th>\n",
       "      <td>наука</td>\n",
       "      <td>университет</td>\n",
       "      <td>биолог</td>\n",
       "      <td>физик</td>\n",
       "      <td>исследование</td>\n",
       "      <td>математик</td>\n",
       "      <td>научный</td>\n",
       "      <td>археолог</td>\n",
       "      <td>исследователь</td>\n",
       "      <td>ученый</td>\n",
       "    </tr>\n",
       "    <tr>\n",
       "      <th>skiing</th>\n",
       "      <td>нортуг</td>\n",
       "      <td>сергей устюгов</td>\n",
       "      <td>сундбю</td>\n",
       "      <td>легков</td>\n",
       "      <td>вяльбе</td>\n",
       "      <td>fis</td>\n",
       "      <td>йохауг</td>\n",
       "      <td>лахти</td>\n",
       "      <td>лыжник</td>\n",
       "      <td>устюгов</td>\n",
       "    </tr>\n",
       "    <tr>\n",
       "      <th>social-networks</th>\n",
       "      <td>опубликовывать</td>\n",
       "      <td>аккаунт</td>\n",
       "      <td>микроблогер</td>\n",
       "      <td>некоторые</td>\n",
       "      <td>facebook</td>\n",
       "      <td>пользователь сеть</td>\n",
       "      <td>twitter</td>\n",
       "      <td>пользователь</td>\n",
       "      <td>вконтакте</td>\n",
       "      <td>соцсеть</td>\n",
       "    </tr>\n",
       "    <tr>\n",
       "      <th>technologies</th>\n",
       "      <td>батарея</td>\n",
       "      <td>руководитель</td>\n",
       "      <td>apple</td>\n",
       "      <td>говорить</td>\n",
       "      <td>vimpelcom</td>\n",
       "      <td>wifi</td>\n",
       "      <td>мтс</td>\n",
       "      <td>ростелеком</td>\n",
       "      <td>робот</td>\n",
       "      <td>контакт</td>\n",
       "    </tr>\n",
       "    <tr>\n",
       "      <th>tennis</th>\n",
       "      <td>wta</td>\n",
       "      <td>кубок федерация</td>\n",
       "      <td>open</td>\n",
       "      <td>турнир</td>\n",
       "      <td>теннис</td>\n",
       "      <td>шарапов</td>\n",
       "      <td>корт</td>\n",
       "      <td>кубок дэвис</td>\n",
       "      <td>теннисистка</td>\n",
       "      <td>теннисист</td>\n",
       "    </tr>\n",
       "    <tr>\n",
       "      <th>theatre</th>\n",
       "      <td>росгосцирк</td>\n",
       "      <td>поставлять</td>\n",
       "      <td>художественный руководитель</td>\n",
       "      <td>театральный</td>\n",
       "      <td>цирковой</td>\n",
       "      <td>мюзикл</td>\n",
       "      <td>постановка</td>\n",
       "      <td>балет</td>\n",
       "      <td>театр</td>\n",
       "      <td>спектакль</td>\n",
       "    </tr>\n",
       "    <tr>\n",
       "      <th>volleyball</th>\n",
       "      <td>волейболистка</td>\n",
       "      <td>суперлига</td>\n",
       "      <td>федерация волейбол</td>\n",
       "      <td>эджзаджибаш</td>\n",
       "      <td>казанский</td>\n",
       "      <td>вфв</td>\n",
       "      <td>алекно</td>\n",
       "      <td>белогорье</td>\n",
       "      <td>волейболист</td>\n",
       "      <td>волейбол</td>\n",
       "    </tr>\n",
       "    <tr>\n",
       "      <th>weapons</th>\n",
       "      <td>танк</td>\n",
       "      <td>ввс</td>\n",
       "      <td>истребитель</td>\n",
       "      <td>вооружение</td>\n",
       "      <td>миллиметровый</td>\n",
       "      <td>использоваться</td>\n",
       "      <td>министерство оборона</td>\n",
       "      <td>defense</td>\n",
       "      <td>разработка</td>\n",
       "      <td>тип</td>\n",
       "    </tr>\n",
       "  </tbody>\n",
       "</table>\n",
       "</div>"
      ],
      "text/plain": [
       "                                 0                  1  \\\n",
       "animals                     хозяин           крокодил   \n",
       "auto                     техосмотр      автомобильный   \n",
       "basketball           баскетбольный                рфб   \n",
       "biathlon                касперович          домрачева   \n",
       "books                   библиотека       писательница   \n",
       "boxing              федерация бокс               ринг   \n",
       "business             месторождение               iaaf   \n",
       "chess                     карякина             магнус   \n",
       "companies        тысяча автомобиль  миллиард кубометр   \n",
       "cosmos                   роскосмос         астрофизик   \n",
       "crime             террористический             теракт   \n",
       "cybersport                  league              major   \n",
       "economics                     мрот   импортозамещение   \n",
       "films                    создатель          сниматься   \n",
       "football                      euro            арсенал   \n",
       "forces                         вкс       развертывать   \n",
       "formula1                  гран при         цитировать   \n",
       "hockey                        барс           авангард   \n",
       "internet                    онлайн         объявление   \n",
       "judiciary                   россия       следственный   \n",
       "music                       группа              рэпер   \n",
       "politics                    анкара           заявлять   \n",
       "realty                     площадь       строительный   \n",
       "religion                   религия           христиан   \n",
       "science                      наука        университет   \n",
       "skiing                      нортуг     сергей устюгов   \n",
       "social-networks     опубликовывать            аккаунт   \n",
       "technologies               батарея       руководитель   \n",
       "tennis                         wta    кубок федерация   \n",
       "theatre                 росгосцирк         поставлять   \n",
       "volleyball           волейболистка          суперлига   \n",
       "weapons                       танк                ввс   \n",
       "\n",
       "                                           2             3              4  \\\n",
       "animals                               вольер       медведь            пес   \n",
       "auto                                   motor       peugeot       автопром   \n",
       "basketball                       единый лига    евробаскет      центровой   \n",
       "biathlon                            эстафета       шипулин            сбр   \n",
       "books                                 комикс  произведение          роман   \n",
       "boxing                                 алоян          боец         лебзяк   \n",
       "business                        авиакомпания       газпром          rusal   \n",
       "chess                               костенюк       шахматы   гроссмейстер   \n",
       "companies                           кубометр      компания       миллиард   \n",
       "cosmos             международный космический        миссия      космонавт   \n",
       "crime                            группировка    преступник    неизвестный   \n",
       "cybersport                            gaming     коллектив           team   \n",
       "economics                             минфин        греция         платон   \n",
       "films                             мультфильм       актриса           кино   \n",
       "football                              ростов      матч тур            фнл   \n",
       "forces                                  флот         шойгу            тыс   \n",
       "formula1                               манор     autosport           рено   \n",
       "hockey                                   фхр         шайба            ска   \n",
       "internet                               ролик     википедия         сервис   \n",
       "judiciary                            колония        статья     обвиняемый   \n",
       "music                            евровидение    композитор          певец   \n",
       "politics                              партия        кремль  избирательный   \n",
       "realty                                москва     ипотечный  строительство   \n",
       "religion                              муфтий  православный           храм   \n",
       "science                               биолог         физик   исследование   \n",
       "skiing                                сундбю        легков         вяльбе   \n",
       "social-networks                  микроблогер     некоторые       facebook   \n",
       "technologies                           apple      говорить      vimpelcom   \n",
       "tennis                                  open        турнир         теннис   \n",
       "theatre          художественный руководитель   театральный       цирковой   \n",
       "volleyball                федерация волейбол   эджзаджибаш      казанский   \n",
       "weapons                          истребитель    вооружение  миллиметровый   \n",
       "\n",
       "                                 5                     6  \\\n",
       "animals                    питомец              животный   \n",
       "auto                     авторынок                 камаз   \n",
       "basketball            кубок европа             баскетбол   \n",
       "biathlon                хохфильцен          биатлонистка   \n",
       "books                      книжный          литературный   \n",
       "boxing                    поединок              поветкин   \n",
       "business                       ржд                   оао   \n",
       "chess                      карлсен                   фид   \n",
       "companies            миллион тонна         процент акция   \n",
       "cosmos                     спутник             вселенная   \n",
       "crime                      изымать                летний   \n",
       "cybersport                    dota           киберфутбол   \n",
       "economics                      мвф              инфляция   \n",
       "films                       сериал               картина   \n",
       "football                    футбол                  уефа   \n",
       "forces                     генштаб               военный   \n",
       "formula1                  макларен               феррари   \n",
       "hockey                  нападающий                хоккей   \n",
       "internet                    блогер               youtube   \n",
       "judiciary                      суд                   скр   \n",
       "music                        песня               концерт   \n",
       "politics                     лидер               госдума   \n",
       "realty                         жкх               ипотека   \n",
       "religion                митрополит                община   \n",
       "science                  математик               научный   \n",
       "skiing                         fis                йохауг   \n",
       "social-networks  пользователь сеть               twitter   \n",
       "technologies                  wifi                   мтс   \n",
       "tennis                     шарапов                  корт   \n",
       "theatre                     мюзикл            постановка   \n",
       "volleyball                     вфв                алекно   \n",
       "weapons             использоваться  министерство оборона   \n",
       "\n",
       "                                    7                8               9  \n",
       "animals                       зоопарк           кличка        животное  \n",
       "auto                автопроизводитель          автоваз      автомобиль  \n",
       "basketball               баскетболист         евролига             нба  \n",
       "biathlon                      биатлон              ibu      биатлонист  \n",
       "books                           книга             поэт        писатель  \n",
       "boxing                           бокс              бой          боксер  \n",
       "business                      formula         ритейлер     туроператор  \n",
       "chess                       шахматный        илюмжинов         карякин  \n",
       "companies                      тысяча         ретейлер         процент  \n",
       "cosmos                      астронавт              мкс            марс  \n",
       "crime                         полиция          убивать          тюрьма  \n",
       "cybersport                 киберспорт  киберспортивный  киберспортсмен  \n",
       "economics                      бюджет              ввп       экономика  \n",
       "films                        режиссер            актер           фильм  \n",
       "football                         фифа        футболист    полузащитник  \n",
       "forces                 военнослужащий       конашенков      минобороны  \n",
       "formula1                        пилот         мерседес         формула  \n",
       "hockey                       хоккеист              нхл             кхл  \n",
       "internet                         сайт            хакер        интернет  \n",
       "judiciary        следственный комитет   комитет россия       следствие  \n",
       "music                          альбом           певица        музыкант  \n",
       "politics                      депутат              мид           глава  \n",
       "realty                       жилищный            жилье    недвижимость  \n",
       "religion                      церковь           святой        патриарх  \n",
       "science                      археолог    исследователь          ученый  \n",
       "skiing                          лахти           лыжник         устюгов  \n",
       "social-networks          пользователь        вконтакте         соцсеть  \n",
       "technologies               ростелеком            робот         контакт  \n",
       "tennis                    кубок дэвис      теннисистка       теннисист  \n",
       "theatre                         балет            театр       спектакль  \n",
       "volleyball                  белогорье      волейболист        волейбол  \n",
       "weapons                       defense       разработка             тип  "
      ]
     },
     "execution_count": 34,
     "metadata": {},
     "output_type": "execute_result"
    }
   ],
   "source": [
    "print_top_K(tfidf_vectorizer, clf, le.classes_, k=10)"
   ]
  },
  {
   "cell_type": "code",
   "execution_count": 35,
   "metadata": {
    "collapsed": true
   },
   "outputs": [],
   "source": [
    "test_str = '''В 1969-72 годах американские астронавты установили на Луне в общей сложности шесть звездно-полосатых флагов.\n",
    "С тех пор прошло много лет и утекло много лунного песка. Несмотря на отсутствие воздуха флаги за это время сильно износились.\n",
    "В последний раз их видели в 2012 году, когда их снял Лунный орбитальный зонд (LRO). Тогда как минимум пять из шести флагов\n",
    "находились в вертикальном положении. Однако после десятилетий, проведенных на ярком солнце, цвета, конечно же, выгорели.\n",
    "По мнению ученых, сейчас флаги скорее всего почти полностью белого цвета. Все флаги стоили 5,5 долларов (32 доллара в современных ценах).\n",
    "Компания AnninFlagmakers изготовила их из вискозы, волокна которой под воздействием ультрафиолетового света распадаются.\n",
    "Это значит, что ткань флагов не только полностью выгорела, но и, не исключено, очень сильно обветшала. К этому следует добавить, пишет\n",
    "Metro, и температурные условия: две недели ярчайшего солнца и стоградусной жары, за которыми следуют две недели лунной ночи, когда\n",
    "столбик термометра, если бы он был на это рассчитан, опускался бы до отметки -150°С. НАСА менять флаги на Луне не собирается.\n",
    "Агентство намерено отправлять астронавтов в далекий космос, но спутник Земли космические начальники решили облететь стороной.\n",
    "В планах полет на Марс примерно в 2033 году. Последняя надежда осталась на коммерческие компании, осваивающие космос.\n",
    "Не исключено, что вместо госагентства звездно-полосатые флаги на нашем спутнике заменит владелец Amazon, мультимиллардер Джефф Безос,\n",
    "который мечтает о колонизации Луны.'''"
   ]
  },
  {
   "cell_type": "code",
   "execution_count": 36,
   "metadata": {},
   "outputs": [
    {
     "data": {
      "text/plain": [
       "'cosmos'"
      ]
     },
     "execution_count": 36,
     "metadata": {},
     "output_type": "execute_result"
    }
   ],
   "source": [
    "le.inverse_transform(clf.predict(tfidf_vectorizer.transform([TEXT_PIPELINE(test_str)])))[0]"
   ]
  },
  {
   "cell_type": "code",
   "execution_count": null,
   "metadata": {
    "collapsed": true
   },
   "outputs": [],
   "source": [
    "# TODO DROP GAZETA ARMY NEWS"
   ]
  },
  {
   "cell_type": "code",
   "execution_count": null,
   "metadata": {
    "collapsed": true
   },
   "outputs": [],
   "source": []
  }
 ],
 "metadata": {
  "kernelspec": {
   "display_name": "mlenv",
   "language": "python",
   "name": "mlenv"
  },
  "language_info": {
   "codemirror_mode": {
    "name": "ipython",
    "version": 3
   },
   "file_extension": ".py",
   "mimetype": "text/x-python",
   "name": "python",
   "nbconvert_exporter": "python",
   "pygments_lexer": "ipython3",
   "version": "3.5.2"
  }
 },
 "nbformat": 4,
 "nbformat_minor": 2
}
